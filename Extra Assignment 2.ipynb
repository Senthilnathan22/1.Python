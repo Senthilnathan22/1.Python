{
 "cells": [
  {
   "cell_type": "code",
   "execution_count": 5,
   "id": "bd7cd3c4-a147-436f-bd3f-f1a91e4974a9",
   "metadata": {},
   "outputs": [
    {
     "name": "stdout",
     "output_type": "stream",
     "text": [
      "0\n",
      "1\n",
      "2\n",
      "3\n",
      "4\n",
      "5\n",
      "6\n",
      "7\n",
      "8\n",
      "9\n",
      "10\n",
      "11\n",
      "12\n",
      "13\n",
      "14\n",
      "15\n",
      "16\n",
      "17\n",
      "18\n",
      "19\n"
     ]
    }
   ],
   "source": [
    "for num in range (0,20):\n",
    "    print(num)"
   ]
  },
  {
   "cell_type": "code",
   "execution_count": 4,
   "id": "056306d9-4f77-4e0a-b04b-a58ab524ce22",
   "metadata": {},
   "outputs": [
    {
     "name": "stdout",
     "output_type": "stream",
     "text": [
      "10 11 12 13 14 15 16 17 18 19 "
     ]
    }
   ],
   "source": [
    "for num1 in range (10,20):\n",
    "    print(num1,end=\" \")"
   ]
  },
  {
   "cell_type": "code",
   "execution_count": 35,
   "id": "95081709-a671-4b45-8aee-3cafb85c174e",
   "metadata": {},
   "outputs": [
    {
     "name": "stdout",
     "output_type": "stream",
     "text": [
      "Number of item in the list: 7\n"
     ]
    }
   ],
   "source": [
    "a=[10, 20, 14, 55, 43, 87, 76]\n",
    "print(\"Number of item in the list:\",len(a))"
   ]
  },
  {
   "cell_type": "code",
   "execution_count": null,
   "id": "6a126fa7-d9f3-47b4-a27d-defba0e517be",
   "metadata": {},
   "outputs": [],
   "source": []
  },
  {
   "cell_type": "code",
   "execution_count": 21,
   "id": "8c0489fd-7e92-4406-a7ef-74ab277fc9ce",
   "metadata": {},
   "outputs": [
    {
     "name": "stdout",
     "output_type": "stream",
     "text": [
      "A\n",
      "r\n",
      "t\n",
      "i\n",
      "f\n",
      "i\n",
      "c\n",
      "i\n",
      "a\n",
      "l\n",
      " \n",
      "I\n",
      "n\n",
      "t\n",
      "e\n",
      "l\n",
      "l\n",
      "i\n",
      "g\n",
      "e\n",
      "n\n",
      "c\n",
      "e\n"
     ]
    }
   ],
   "source": [
    "str= \"Artificial Intelligence\"\n",
    "for i in str:\n",
    "    print(i)\n"
   ]
  },
  {
   "cell_type": "code",
   "execution_count": 27,
   "id": "fce3580a-01cb-4e2a-912f-9bb19556407a",
   "metadata": {},
   "outputs": [
    {
     "name": "stdout",
     "output_type": "stream",
     "text": [
      "-Your name-\n",
      "-Your Age-\n",
      "-Your Profession-\n"
     ]
    }
   ],
   "source": [
    "print(\"-Your name-\")\n",
    "print(\"-Your Age-\")\n",
    "print(\"-Your Profession-\")"
   ]
  },
  {
   "cell_type": "code",
   "execution_count": 7,
   "id": "f8926eec-016f-4f6c-bacd-dd7610df997b",
   "metadata": {},
   "outputs": [
    {
     "name": "stdout",
     "output_type": "stream",
     "text": [
      "(1, 'Welcome', 2, 'Hope')\n"
     ]
    }
   ],
   "source": [
    "Tuple = (1, 'Welcome', 2, 'Hope')\n",
    "print(Tuple)\n"
   ]
  },
  {
   "cell_type": "code",
   "execution_count": 8,
   "id": "b5c72bc0-1585-43c2-9bee-d089e177bca8",
   "metadata": {},
   "outputs": [
    {
     "name": "stdout",
     "output_type": "stream",
     "text": [
      "((0, 1, 2, 3), ('Python', 'Hope'))\n"
     ]
    }
   ],
   "source": [
    "tup1=(0,1,2,3)\n",
    "tup2=('Python', 'Hope')\n",
    "tup3=(tup1, tup2)\n",
    "print(tup3)"
   ]
  },
  {
   "cell_type": "code",
   "execution_count": 4,
   "id": "3d8c3b49-aa63-42f9-9832-0c7b69eb075e",
   "metadata": {},
   "outputs": [
    {
     "name": "stdout",
     "output_type": "stream",
     "text": [
      "19 is odd\n",
      "25 is odd\n",
      "1 is odd\n"
     ]
    }
   ],
   "source": [
    "num=[20, 10, 16, 19, 25, 1, 276, 288]\n",
    "for odd in num:\n",
    "    if((odd%2)==1):\n",
    "        print (odd, \"is odd\") "
   ]
  },
  {
   "cell_type": "code",
   "execution_count": 5,
   "id": "3a05701d-d923-4706-a492-f950c48ae62f",
   "metadata": {},
   "outputs": [
    {
     "name": "stdout",
     "output_type": "stream",
     "text": [
      "20 is Even\n",
      "10 is Even\n",
      "16 is Even\n",
      "276 is Even\n",
      "288 is Even\n"
     ]
    }
   ],
   "source": [
    "num=[20, 10, 16, 19, 25, 1, 276, 288]\n",
    "for Even in num:\n",
    "    if((Even%2)==0):\n",
    "        print (Even, \"is Even\") "
   ]
  },
  {
   "cell_type": "code",
   "execution_count": null,
   "id": "3abefb4a-779a-441b-9518-4aacda636922",
   "metadata": {},
   "outputs": [],
   "source": []
  },
  {
   "cell_type": "code",
   "execution_count": null,
   "id": "5a86ebed-e4b7-40ba-bda4-be649f7ac807",
   "metadata": {},
   "outputs": [],
   "source": []
  }
 ],
 "metadata": {
  "kernelspec": {
   "display_name": "Python 3 (ipykernel)",
   "language": "python",
   "name": "python3"
  },
  "language_info": {
   "codemirror_mode": {
    "name": "ipython",
    "version": 3
   },
   "file_extension": ".py",
   "mimetype": "text/x-python",
   "name": "python",
   "nbconvert_exporter": "python",
   "pygments_lexer": "ipython3",
   "version": "3.12.7"
  }
 },
 "nbformat": 4,
 "nbformat_minor": 5
}
