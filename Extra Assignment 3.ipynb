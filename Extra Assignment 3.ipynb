{
 "cells": [
  {
   "cell_type": "code",
   "execution_count": 10,
   "id": "204e3313-6b01-4d3d-bc28-3ea4052c421d",
   "metadata": {},
   "outputs": [
    {
     "name": "stdin",
     "output_type": "stream",
     "text": [
      "Enter the value: 10\n"
     ]
    }
   ],
   "source": [
    "value=int(input(\"Enter the value:\"))"
   ]
  },
  {
   "cell_type": "code",
   "execution_count": 11,
   "id": "501d15be-1063-4283-8a1f-af5c096684c0",
   "metadata": {},
   "outputs": [
    {
     "name": "stdout",
     "output_type": "stream",
     "text": [
      "Correct\n"
     ]
    }
   ],
   "source": [
    "if (value==10):\n",
    "    print(\"Correct\")"
   ]
  },
  {
   "cell_type": "code",
   "execution_count": 29,
   "id": "6e6348eb-7fbc-4959-8c8b-2ea1456f7407",
   "metadata": {},
   "outputs": [],
   "source": [
    "PASS=\"Hope@123\""
   ]
  },
  {
   "cell_type": "code",
   "execution_count": 34,
   "id": "48f67d94-a245-4dc5-92a0-6df868680529",
   "metadata": {},
   "outputs": [
    {
     "name": "stdin",
     "output_type": "stream",
     "text": [
      "Enter the password: Hope@123\n"
     ]
    }
   ],
   "source": [
    "password=input(\"Enter the password:\")"
   ]
  },
  {
   "cell_type": "code",
   "execution_count": 35,
   "id": "36e3d599-6da9-4b20-8075-71301281ba6a",
   "metadata": {},
   "outputs": [
    {
     "name": "stdout",
     "output_type": "stream",
     "text": [
      "Your password is Correct\n"
     ]
    }
   ],
   "source": [
    "if(password==PASS):\n",
    "    print(\"Your password is Correct\")\n",
    "else:\n",
    "    print(\"Your password is Incorrect\")\n"
   ]
  },
  {
   "cell_type": "code",
   "execution_count": 40,
   "id": "5e3d6451-0e12-4107-ab25-91e055addca7",
   "metadata": {},
   "outputs": [
    {
     "name": "stdin",
     "output_type": "stream",
     "text": [
      "Enter the Age: 20\n"
     ]
    },
    {
     "name": "stdout",
     "output_type": "stream",
     "text": [
      "Adult\n"
     ]
    }
   ],
   "source": [
    "Age=int(input(\"Enter the Age:\"))\n",
    "if(Age<18):\n",
    "    print(\"Children\")\n",
    "elif(Age<40):\n",
    "    print(\"Adult\")\n",
    "elif(Age<60):\n",
    "    print(\"Citizen\")\n",
    "else:\n",
    "    print(\"Senior Citizen\")"
   ]
  },
  {
   "cell_type": "code",
   "execution_count": 47,
   "id": "3a78b985-e64b-474a-9d1c-2ca701154624",
   "metadata": {},
   "outputs": [
    {
     "name": "stdin",
     "output_type": "stream",
     "text": [
      "Enter a number:  1\n"
     ]
    },
    {
     "name": "stdout",
     "output_type": "stream",
     "text": [
      "Positive number\n"
     ]
    }
   ],
   "source": [
    "num = int(input(\"Enter a number: \"))\n",
    "if(num>0):\n",
    "   print(\"Positive number\")\n",
    "elif (num==0):\n",
    "   print(\"Zero\")\n",
    "else:\n",
    "   print(\"Negative number\")"
   ]
  },
  {
   "cell_type": "code",
   "execution_count": 52,
   "id": "5afe4bb1-2481-4013-a029-8df59f199e18",
   "metadata": {},
   "outputs": [
    {
     "name": "stdin",
     "output_type": "stream",
     "text": [
      "Enter a number to check:  22\n"
     ]
    },
    {
     "name": "stdout",
     "output_type": "stream",
     "text": [
      "No, It is not divisible by 5\n"
     ]
    }
   ],
   "source": [
    "num = int(input(\"Enter a number to check: \"))\n",
    "if((num%5)==0):\n",
    "   print(\"Yes, It is divisible by 5\")\n",
    "else:\n",
    "   print(\"No, It is not divisible by 5\")"
   ]
  },
  {
   "cell_type": "code",
   "execution_count": null,
   "id": "6e959ae8-75be-484b-a5cb-2d307c1ccea2",
   "metadata": {},
   "outputs": [],
   "source": []
  }
 ],
 "metadata": {
  "kernelspec": {
   "display_name": "Python 3 (ipykernel)",
   "language": "python",
   "name": "python3"
  },
  "language_info": {
   "codemirror_mode": {
    "name": "ipython",
    "version": 3
   },
   "file_extension": ".py",
   "mimetype": "text/x-python",
   "name": "python",
   "nbconvert_exporter": "python",
   "pygments_lexer": "ipython3",
   "version": "3.12.7"
  }
 },
 "nbformat": 4,
 "nbformat_minor": 5
}
