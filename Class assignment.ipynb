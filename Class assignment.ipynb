{
 "cells": [
  {
   "cell_type": "code",
   "execution_count": 1,
   "id": "19969cbd-e108-4a58-9943-c2e8e5b31b19",
   "metadata": {},
   "outputs": [],
   "source": [
    "class SubfieldsInAI():\n",
    "    def Subfields():\n",
    "    \n",
    "        print(\"Sub-Fieldsin AI are:\");\n",
    "        print(\"Machine Learning\")\n",
    "        print(\"Neural networks\")\n",
    "        print(\"Vision\")\n",
    "        print(\"Robotics\")\n",
    "        print(\"Speech Processing\")\n",
    "        print(\"Natural Language Processing\")\n",
    "    "
   ]
  },
  {
   "cell_type": "code",
   "execution_count": 21,
   "id": "7b38ca26-f720-403f-9622-9691d394a991",
   "metadata": {},
   "outputs": [],
   "source": [
    "class oddEven():\n",
    "    def oddEven():\n",
    "        num=int(input(\"Enter the Number:\"))\n",
    "        if((num%2)==1):\n",
    "                print(num,\"is Odd number\")\n",
    "                mes=\"Odd Number\"\n",
    "        else:\n",
    "                print(num,\"is Even Number\")\n",
    "                mes=\"Even number\"\n",
    "        return mes"
   ]
  },
  {
   "cell_type": "code",
   "execution_count": 10,
   "id": "b0286eaf-9a3a-4f1a-8633-a05737af9713",
   "metadata": {},
   "outputs": [],
   "source": [
    "class Elegibilityformarriage():\n",
    "    def eligible():\n",
    "        Gender=input(\"Your Gender:\")\n",
    "        Age=int(input(\"Your Age:\"))\n",
    "        if(Gender.lower()==\"male\" and Age>=21):\n",
    "            print(\"Eligible\")\n",
    "            sel=\"Eligible\"\n",
    "        elif(Gender.lower()==\"female\" and Age>=18):\n",
    "            print(\"Eligible\")\n",
    "            sel=\"Eligible\"\n",
    "        else:\n",
    "            print(\"Not Eligible\")\n",
    "            sel=\"Not Eligible\"\n",
    "        return sel "
   ]
  },
  {
   "cell_type": "code",
   "execution_count": 11,
   "id": "65f970ac-5e0f-4aff-8f4f-1ae949eed8af",
   "metadata": {},
   "outputs": [],
   "source": [
    "class FindPercent():\n",
    "    def Percentage():\n",
    "        S1=98\n",
    "        S2=87\n",
    "        S3=95\n",
    "        S4=95\n",
    "        S5=93\n",
    "        T= S1+S2+S3+S4+S5\n",
    "        Per= (T/500)*100\n",
    "        print(\"Subject1=\", S1)\n",
    "        print(\"Subject2=\", S2)\n",
    "        print(\"Subject3=\", S3)\n",
    "        print(\"Subject4=\", S4)\n",
    "        print(\"Subject5=\", S5)\n",
    "        print(\"Total:\", T)\n",
    "        print(\"Percentage:\", Per)\n",
    "        percent=Per\n",
    "        return percent\n"
   ]
  },
  {
   "cell_type": "code",
   "execution_count": 9,
   "id": "80ba2cf2-8aa4-4b09-99ac-c14f58b53ba0",
   "metadata": {},
   "outputs": [],
   "source": [
    "class triangle():\n",
    "    def triangle():\n",
    "        H=32\n",
    "        B=34\n",
    "        H1=2\n",
    "        H2=4\n",
    "        B1=4\n",
    "        AOT=(H*B)/2\n",
    "        PF=H1+H2+B1\n",
    "        print(\"Height:\", H)\n",
    "        print(\"Breath:\", B)\n",
    "        print(\"Area of Triangle:\", AOT)\n",
    "        tri=AOT,PF\n",
    "        print(\"Height1:\", H1)\n",
    "        print(\"Height2:\", H2)\n",
    "        print(\"Breadth:\", B1)\n",
    "        print(\"Perimeter of Triangle:\", PF)\n",
    "        tri=AOT,PF\n",
    "        return tri\n",
    "        "
   ]
  },
  {
   "cell_type": "code",
   "execution_count": 2,
   "id": "93d490d7-9a15-4ed4-bf38-43c8108eacd2",
   "metadata": {},
   "outputs": [
    {
     "name": "stdout",
     "output_type": "stream",
     "text": [
      "Sub-Fieldsin AI are:\n",
      "Machine Learning\n",
      "Neural networks\n",
      "Vision\n",
      "Robotics\n",
      "Speech Processing\n",
      "Natural Language Processing\n"
     ]
    }
   ],
   "source": [
    "SubfieldsInAI.Subfields()"
   ]
  },
  {
   "cell_type": "code",
   "execution_count": 24,
   "id": "62c76524-eea3-47c3-8434-3e3878feb6cb",
   "metadata": {},
   "outputs": [
    {
     "name": "stdin",
     "output_type": "stream",
     "text": [
      "Enter the Number: 52452\n"
     ]
    },
    {
     "name": "stdout",
     "output_type": "stream",
     "text": [
      "52452 is Even Number\n"
     ]
    },
    {
     "data": {
      "text/plain": [
       "'Even number'"
      ]
     },
     "execution_count": 24,
     "metadata": {},
     "output_type": "execute_result"
    }
   ],
   "source": [
    "oddEven.oddEven()"
   ]
  },
  {
   "cell_type": "code",
   "execution_count": 12,
   "id": "3b8b333c-0866-46d2-b854-5179526f3add",
   "metadata": {},
   "outputs": [
    {
     "name": "stdin",
     "output_type": "stream",
     "text": [
      "Your Gender: male\n",
      "Your Age: 20\n"
     ]
    },
    {
     "name": "stdout",
     "output_type": "stream",
     "text": [
      "Not Eligible\n"
     ]
    },
    {
     "data": {
      "text/plain": [
       "'Not Eligible'"
      ]
     },
     "execution_count": 12,
     "metadata": {},
     "output_type": "execute_result"
    }
   ],
   "source": [
    "Elegibilityformarriage.eligible()"
   ]
  },
  {
   "cell_type": "code",
   "execution_count": 15,
   "id": "41d357df-1597-4083-98ed-b9dd8b4962da",
   "metadata": {},
   "outputs": [
    {
     "name": "stdout",
     "output_type": "stream",
     "text": [
      "Subject1= 98\n",
      "Subject2= 87\n",
      "Subject3= 95\n",
      "Subject4= 95\n",
      "Subject5= 93\n",
      "Total: 468\n",
      "Percentage: 93.60000000000001\n"
     ]
    },
    {
     "data": {
      "text/plain": [
       "93.60000000000001"
      ]
     },
     "execution_count": 15,
     "metadata": {},
     "output_type": "execute_result"
    }
   ],
   "source": [
    "FindPercent.Percentage()"
   ]
  },
  {
   "cell_type": "code",
   "execution_count": 22,
   "id": "e0ac0bac-df87-4373-bddb-b6eef2de9b6a",
   "metadata": {},
   "outputs": [
    {
     "name": "stdout",
     "output_type": "stream",
     "text": [
      "Height: 32\n",
      "Breath: 34\n",
      "Area of Triangle: 544.0\n",
      "Height1: 2\n",
      "Height2: 4\n",
      "Breadth: 4\n",
      "Perimeter of Triangle: 10\n"
     ]
    },
    {
     "data": {
      "text/plain": [
       "(544.0, 10)"
      ]
     },
     "execution_count": 22,
     "metadata": {},
     "output_type": "execute_result"
    }
   ],
   "source": [
    "triangle.triangle()"
   ]
  },
  {
   "cell_type": "code",
   "execution_count": null,
   "id": "aaf00510-24a5-410d-9ce2-77b14e022231",
   "metadata": {},
   "outputs": [],
   "source": []
  }
 ],
 "metadata": {
  "kernelspec": {
   "display_name": "Python 3 (ipykernel)",
   "language": "python",
   "name": "python3"
  },
  "language_info": {
   "codemirror_mode": {
    "name": "ipython",
    "version": 3
   },
   "file_extension": ".py",
   "mimetype": "text/x-python",
   "name": "python",
   "nbconvert_exporter": "python",
   "pygments_lexer": "ipython3",
   "version": "3.12.7"
  }
 },
 "nbformat": 4,
 "nbformat_minor": 5
}
