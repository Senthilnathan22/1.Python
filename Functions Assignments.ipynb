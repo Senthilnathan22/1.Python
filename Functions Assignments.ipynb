{
 "cells": [
  {
   "cell_type": "code",
   "execution_count": 1,
   "id": "68f6b682-4469-4efe-8241-1954df2fec60",
   "metadata": {},
   "outputs": [],
   "source": [
    "def Subfields():\n",
    "    \n",
    "    print(\"Sub-Fieldsin AI are:\");\n",
    "    print(\"Machine Learning\")\n",
    "    print(\"Neural networks\")\n",
    "    print(\"Vision\")\n",
    "    print(\"Robotics\")\n",
    "    print(\"Speech Processing\")\n",
    "    print(\"Natural Language Processing\")\n",
    "    return Subfields"
   ]
  },
  {
   "cell_type": "code",
   "execution_count": 2,
   "id": "50ffc93e-b069-4856-911c-d54f3d224b06",
   "metadata": {},
   "outputs": [
    {
     "name": "stdout",
     "output_type": "stream",
     "text": [
      "Sub-Fieldsin AI are:\n",
      "Machine Learning\n",
      "Neural networks\n",
      "Vision\n",
      "Robotics\n",
      "Speech Processing\n",
      "Natural Language Processing\n"
     ]
    },
    {
     "data": {
      "text/plain": [
       "<function __main__.Subfields()>"
      ]
     },
     "execution_count": 2,
     "metadata": {},
     "output_type": "execute_result"
    }
   ],
   "source": [
    "Subfields()"
   ]
  },
  {
   "cell_type": "code",
   "execution_count": 3,
   "id": "0c928af0-e498-4fae-a0d6-0f519b535ed0",
   "metadata": {},
   "outputs": [
    {
     "name": "stdout",
     "output_type": "stream",
     "text": [
      "Sub-Fieldsin AI are:\n",
      "Machine Learning\n",
      "Neural networks\n",
      "Vision\n",
      "Robotics\n",
      "Speech Processing\n",
      "Natural Language Processing\n"
     ]
    }
   ],
   "source": [
    "SubfieldsinAI=Subfields()"
   ]
  },
  {
   "cell_type": "code",
   "execution_count": 55,
   "id": "676417f7-458f-472b-9c96-3386e4f29836",
   "metadata": {},
   "outputs": [],
   "source": [
    "def oddEven():\n",
    "    num=int(input(\"Enter the Number:\"))\n",
    "    if((num%2)==1):\n",
    "        print(num,\"is Odd number\")\n",
    "        mes=\"Odd Number\"\n",
    "    else:\n",
    "        print(num,\"is Even Number\")\n",
    "        mes=\"Even number\"\n",
    "    return mes"
   ]
  },
  {
   "cell_type": "code",
   "execution_count": 56,
   "id": "3e8e95e9-f98a-4d74-956e-913b0b6e017b",
   "metadata": {},
   "outputs": [
    {
     "name": "stdin",
     "output_type": "stream",
     "text": [
      "Enter the Number: 52452\n"
     ]
    },
    {
     "name": "stdout",
     "output_type": "stream",
     "text": [
      "52452 is Even Number\n"
     ]
    },
    {
     "data": {
      "text/plain": [
       "'Even number'"
      ]
     },
     "execution_count": 56,
     "metadata": {},
     "output_type": "execute_result"
    }
   ],
   "source": [
    "oddEven()"
   ]
  },
  {
   "cell_type": "code",
   "execution_count": 57,
   "id": "b563486d-b580-4f09-ac51-cf118c63f000",
   "metadata": {},
   "outputs": [
    {
     "name": "stdin",
     "output_type": "stream",
     "text": [
      "Enter the Number: 52452\n"
     ]
    },
    {
     "name": "stdout",
     "output_type": "stream",
     "text": [
      "52452 is Even Number\n"
     ]
    }
   ],
   "source": [
    "Message=oddEven()"
   ]
  },
  {
   "cell_type": "code",
   "execution_count": 55,
   "id": "6e96b25c-6d34-4027-a165-4e5ff8629400",
   "metadata": {},
   "outputs": [],
   "source": [
    "def eligible():\n",
    "    Gender=input(\"Your Gender:\")\n",
    "    Age=int(input(\"Your Age:\"))\n",
    "    if(Gender.lower()==\"male\" and Age>=21):\n",
    "        print(\"Eligible\")\n",
    "        sel=\"Eligible\"\n",
    "    elif(Gender.lower()==\"female\" and Age>=18):\n",
    "        print(\"Eligible\")\n",
    "        sel=\"Eligible\"\n",
    "    else:\n",
    "        print(\"Not Eligible\")\n",
    "        sel=\"Not Eligible\"\n",
    "    return sel "
   ]
  },
  {
   "cell_type": "code",
   "execution_count": 56,
   "id": "e4eab280-ea0a-4bf6-975f-6bfbc1f12f9f",
   "metadata": {},
   "outputs": [
    {
     "name": "stdin",
     "output_type": "stream",
     "text": [
      "Your Gender: male\n",
      "Your Age: 20\n"
     ]
    },
    {
     "name": "stdout",
     "output_type": "stream",
     "text": [
      "Not Eligible\n"
     ]
    },
    {
     "data": {
      "text/plain": [
       "'Not Eligible'"
      ]
     },
     "execution_count": 56,
     "metadata": {},
     "output_type": "execute_result"
    }
   ],
   "source": [
    "eligible()"
   ]
  },
  {
   "cell_type": "code",
   "execution_count": 57,
   "id": "9df8b9db-8b1f-4435-9588-ce75103b1f90",
   "metadata": {},
   "outputs": [
    {
     "name": "stdin",
     "output_type": "stream",
     "text": [
      "Your Gender: male\n",
      "Your Age: 20\n"
     ]
    },
    {
     "name": "stdout",
     "output_type": "stream",
     "text": [
      "Not Eligible\n"
     ]
    }
   ],
   "source": [
    "Select=eligible()"
   ]
  },
  {
   "cell_type": "code",
   "execution_count": 48,
   "id": "0d979a4d-cb29-47c6-bdf3-a6e4f642d239",
   "metadata": {},
   "outputs": [],
   "source": [
    "def Modulos():\n",
    "    S1=98\n",
    "    S2=87\n",
    "    S3=95\n",
    "    S4=95\n",
    "    S5=93\n",
    "    T= S1+S2+S3+S4+S5\n",
    "    Per= (T/500)*100\n",
    "    print(\"Subject1=\", S1)\n",
    "    print(\"Subject2=\", S2)\n",
    "    print(\"Subject3=\", S3)\n",
    "    print(\"Subject4=\", S4)\n",
    "    print(\"Subject5=\", S5)\n",
    "    print(\"Total:\", T)\n",
    "    print(\"Percentage:\", Per)\n",
    "    percent=Per\n",
    "    return percent"
   ]
  },
  {
   "cell_type": "code",
   "execution_count": 49,
   "id": "c40ab72c-0c3e-4b20-bf8d-d52af939a598",
   "metadata": {},
   "outputs": [
    {
     "name": "stdout",
     "output_type": "stream",
     "text": [
      "Subject1= 98\n",
      "Subject2= 87\n",
      "Subject3= 95\n",
      "Subject4= 95\n",
      "Subject5= 93\n",
      "Total: 468\n",
      "Percentage: 93.60000000000001\n"
     ]
    },
    {
     "data": {
      "text/plain": [
       "93.60000000000001"
      ]
     },
     "execution_count": 49,
     "metadata": {},
     "output_type": "execute_result"
    }
   ],
   "source": [
    "Modulos()"
   ]
  },
  {
   "cell_type": "code",
   "execution_count": 50,
   "id": "27191524-2cef-40d1-bba8-354469ba69d7",
   "metadata": {},
   "outputs": [
    {
     "name": "stdout",
     "output_type": "stream",
     "text": [
      "Subject1= 98\n",
      "Subject2= 87\n",
      "Subject3= 95\n",
      "Subject4= 95\n",
      "Subject5= 93\n",
      "Total: 468\n",
      "Percentage: 93.60000000000001\n"
     ]
    }
   ],
   "source": [
    "Perce=Modulos()"
   ]
  },
  {
   "cell_type": "code",
   "execution_count": 59,
   "id": "9b05a655-3030-44b1-b5f5-b0c2b6ea2759",
   "metadata": {},
   "outputs": [],
   "source": [
    "def triangle():\n",
    "    H=32\n",
    "    B=34\n",
    "    H1=2\n",
    "    H2=4\n",
    "    B1=4\n",
    "    AOT=(H*B)/2\n",
    "    PF=H1+H2+B1\n",
    "    print(\"Height:\", H)\n",
    "    print(\"Breath:\", B)\n",
    "    print(\"Area of Triangle:\", AOT)\n",
    "    tri=AOT,PF\n",
    "    print(\"Height1:\", H1)\n",
    "    print(\"Height2:\", H2)\n",
    "    print(\"Breadth:\", B1)\n",
    "    print(\"Perimeter of Triangle:\", PF)\n",
    "    tri=AOT,PF\n",
    "    return tri\n",
    "    \n",
    "    "
   ]
  },
  {
   "cell_type": "code",
   "execution_count": 60,
   "id": "0773ddaf-b374-4451-a37a-b4cf65b11be8",
   "metadata": {},
   "outputs": [
    {
     "name": "stdout",
     "output_type": "stream",
     "text": [
      "Height: 32\n",
      "Breath: 34\n",
      "Area of Triangle: 544.0\n",
      "Height1: 2\n",
      "Height2: 4\n",
      "Breadth: 4\n",
      "Perimeter of Triangle: 10\n"
     ]
    },
    {
     "data": {
      "text/plain": [
       "(544.0, 10)"
      ]
     },
     "execution_count": 60,
     "metadata": {},
     "output_type": "execute_result"
    }
   ],
   "source": [
    "triangle()"
   ]
  },
  {
   "cell_type": "code",
   "execution_count": 61,
   "id": "587197b2-b45a-4320-969d-ca37d06934c3",
   "metadata": {},
   "outputs": [
    {
     "name": "stdout",
     "output_type": "stream",
     "text": [
      "Height: 32\n",
      "Breath: 34\n",
      "Area of Triangle: 544.0\n",
      "Height1: 2\n",
      "Height2: 4\n",
      "Breadth: 4\n",
      "Perimeter of Triangle: 10\n"
     ]
    }
   ],
   "source": [
    "Trian=triangle()"
   ]
  },
  {
   "cell_type": "code",
   "execution_count": null,
   "id": "93d490d7-9a15-4ed4-bf38-43c8108eacd2",
   "metadata": {},
   "outputs": [],
   "source": []
  }
 ],
 "metadata": {
  "kernelspec": {
   "display_name": "Python 3 (ipykernel)",
   "language": "python",
   "name": "python3"
  },
  "language_info": {
   "codemirror_mode": {
    "name": "ipython",
    "version": 3
   },
   "file_extension": ".py",
   "mimetype": "text/x-python",
   "name": "python",
   "nbconvert_exporter": "python",
   "pygments_lexer": "ipython3",
   "version": "3.12.7"
  }
 },
 "nbformat": 4,
 "nbformat_minor": 5
}
