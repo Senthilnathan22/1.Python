{
 "cells": [
  {
   "cell_type": "code",
   "execution_count": 1,
   "id": "33fc0a2d-81f4-4b35-ba4c-2fd5588310d4",
   "metadata": {},
   "outputs": [
    {
     "name": "stdout",
     "output_type": "stream",
     "text": [
      "HOPE AI\n"
     ]
    }
   ],
   "source": [
    "print(\"HOPE AI\")"
   ]
  },
  {
   "cell_type": "code",
   "execution_count": 5,
   "id": "f75c98c9-4f46-47c8-b21d-4d269dcbf675",
   "metadata": {},
   "outputs": [
    {
     "name": "stdin",
     "output_type": "stream",
     "text": [
      "Enter your Institute name? : HOPE AI\n"
     ]
    }
   ],
   "source": [
    "Ins=input(\"Enter your Institute name? :\")"
   ]
  },
  {
   "cell_type": "code",
   "execution_count": 7,
   "id": "bb605125-e2e8-4c85-9add-bdf5cbb77379",
   "metadata": {},
   "outputs": [
    {
     "name": "stdin",
     "output_type": "stream",
     "text": [
      "Enter your name: Raj\n",
      "Enter your Age: 15\n",
      "Enter your School name: Guru School\n",
      "Enter your Degree: B.E CSE\n"
     ]
    }
   ],
   "source": [
    "Name=input(\"Enter your name:\")\n",
    "Age=int(input(\"Enter your Age:\"))\n",
    "Sch=input(\"Enter your School name:\")\n",
    "Deg=input(\"Enter your Degree:\")"
   ]
  },
  {
   "cell_type": "code",
   "execution_count": 8,
   "id": "398a3e07-5b83-4476-aa63-adc2da88eb4d",
   "metadata": {},
   "outputs": [
    {
     "name": "stdout",
     "output_type": "stream",
     "text": [
      "a: 43\n",
      "b: 34\n",
      "Add= 77\n"
     ]
    }
   ],
   "source": [
    "a=43\n",
    "print(\"a:\",a)\n",
    "b=34\n",
    "print(\"b:\",b)\n",
    "print(\"Add=\", a+b)"
   ]
  },
  {
   "cell_type": "code",
   "execution_count": 9,
   "id": "e14ae716-642f-4482-8cb8-5e69950831af",
   "metadata": {},
   "outputs": [
    {
     "name": "stdout",
     "output_type": "stream",
     "text": [
      "a: 43\n",
      "b: 34\n",
      "sub= 9\n"
     ]
    }
   ],
   "source": [
    "a=43\n",
    "print(\"a:\",a)\n",
    "b=34\n",
    "print(\"b:\",b)\n",
    "print(\"sub=\", a-b)"
   ]
  },
  {
   "cell_type": "code",
   "execution_count": 10,
   "id": "8f3c86dc-1bfb-4bb9-bff5-402dfd02c7f7",
   "metadata": {},
   "outputs": [
    {
     "name": "stdout",
     "output_type": "stream",
     "text": [
      "a: 63\n",
      "b: 97\n",
      "Mul= 6111\n"
     ]
    }
   ],
   "source": [
    "a=63\n",
    "print(\"a:\",a)\n",
    "b=97\n",
    "print(\"b:\",b)\n",
    "print(\"Mul=\", a*b)"
   ]
  },
  {
   "cell_type": "code",
   "execution_count": 12,
   "id": "3255b8d9-eee7-4509-8a28-c4151e22a525",
   "metadata": {},
   "outputs": [
    {
     "name": "stdout",
     "output_type": "stream",
     "text": [
      "a: 76\n",
      "b: 31\n",
      "Float Div= 2.4516129032258065\n"
     ]
    }
   ],
   "source": [
    "a=76\n",
    "print(\"a:\",a)\n",
    "b=31\n",
    "print(\"b:\",b)\n",
    "print(\"Float Div=\", a/b)"
   ]
  },
  {
   "cell_type": "code",
   "execution_count": 14,
   "id": "ace4af82-51d2-41fd-932f-98f0254d0e06",
   "metadata": {},
   "outputs": [
    {
     "name": "stdout",
     "output_type": "stream",
     "text": [
      "a: 76\n",
      "b: 31\n",
      "Floor Div= 2\n"
     ]
    }
   ],
   "source": [
    "a=76\n",
    "print(\"a:\",a)\n",
    "b=31\n",
    "print(\"b:\",b)\n",
    "print(\"Floor Div=\", a//b)"
   ]
  },
  {
   "cell_type": "code",
   "execution_count": 16,
   "id": "0766f869-817a-4cc4-917d-4616ee1388d4",
   "metadata": {},
   "outputs": [
    {
     "name": "stdout",
     "output_type": "stream",
     "text": [
      "a: 76\n",
      "b: 31\n",
      "Modulo= 14\n"
     ]
    }
   ],
   "source": [
    "a=76\n",
    "print(\"a:\",a)\n",
    "b=31\n",
    "print(\"b:\",b)\n",
    "print(\"Modulo=\", a%b)"
   ]
  },
  {
   "cell_type": "code",
   "execution_count": 13,
   "id": "592d6e79-838f-4c3e-9fa5-dc0b70a16468",
   "metadata": {},
   "outputs": [
    {
     "name": "stdout",
     "output_type": "stream",
     "text": [
      "a: 4\n",
      "b: 4\n",
      "Power= 256\n"
     ]
    }
   ],
   "source": [
    "a=4\n",
    "print(\"a:\",a)\n",
    "b=4\n",
    "print(\"b:\",b)\n",
    "print(\"Power=\",pow(a,b) )"
   ]
  },
  {
   "cell_type": "code",
   "execution_count": null,
   "id": "b18fc01a-8c2e-409b-ab67-685cbfaefb2d",
   "metadata": {},
   "outputs": [],
   "source": []
  }
 ],
 "metadata": {
  "kernelspec": {
   "display_name": "Python 3 (ipykernel)",
   "language": "python",
   "name": "python3"
  },
  "language_info": {
   "codemirror_mode": {
    "name": "ipython",
    "version": 3
   },
   "file_extension": ".py",
   "mimetype": "text/x-python",
   "name": "python",
   "nbconvert_exporter": "python",
   "pygments_lexer": "ipython3",
   "version": "3.12.7"
  }
 },
 "nbformat": 4,
 "nbformat_minor": 5
}
